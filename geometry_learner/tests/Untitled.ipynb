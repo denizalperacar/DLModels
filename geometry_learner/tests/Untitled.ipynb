{
 "cells": [
  {
   "cell_type": "code",
   "execution_count": 1,
   "id": "2285eebf",
   "metadata": {},
   "outputs": [],
   "source": [
    "import torch\n",
    "from torch import nn\n",
    "from performer_pytorch import Performer\n",
    "import numpy as np\n",
    "from copy import deepcopy\n",
    "from shapely.geometry import Point, Polygon\n",
    "from matplotlib import pyplot as plt\n",
    "from torch.optim import Adam\n",
    "import pickle\n",
    "from time import time, sleep"
   ]
  },
  {
   "cell_type": "code",
   "execution_count": 2,
   "id": "595855b9",
   "metadata": {},
   "outputs": [],
   "source": [
    "def draw_polygon(n, r):\n",
    "    r = r\n",
    "    x = np.random.randn(n) \n",
    "    y = np.random.randn(n) \n",
    "\n",
    "    x = x\n",
    "    y = y\n",
    "    \n",
    "    xmax, xmin = x.max(), x.min()\n",
    "    ymax, ymin = y.max(), y.min()\n",
    "\n",
    "    ##computing the (or a) 'center point' of the polygon\n",
    "    center_point = [np.sum(x)/n, np.sum(y)/n]\n",
    "\n",
    "    angles = np.arctan2(x-center_point[0],y-center_point[1])\n",
    "\n",
    "    ##sorting the points:\n",
    "    sort_tups = sorted([(i,j,k) for i,j,k in zip(x,y,angles)], key = lambda t: t[2])\n",
    "\n",
    "    ##making sure that there are no duplicates:\n",
    "    if len(sort_tups) != len(set(sort_tups)):\n",
    "        return None\n",
    "\n",
    "    x,y,angles = zip(*sort_tups)\n",
    "    x = list(x)\n",
    "    y = list(y)\n",
    "\n",
    "    ##appending first coordinate values to lists:\n",
    "    x.append(x[0])\n",
    "    y.append(y[0])\n",
    "    return deepcopy([(x[i], y[i]) for i in range(len(x))]), [xmin,xmax], [ymin, ymax]\n",
    "\n",
    "\n",
    "def get_polygon(n, n_pts, r):\n",
    "    \n",
    "    pts = None\n",
    "    while pts is None:\n",
    "        pts, xm, ym = draw_polygon(n, r)\n",
    "    \n",
    "    poly = Polygon(pts)\n",
    "\n",
    "    x = np.random.randn(n_pts)\n",
    "    y = np.random.randn(n_pts)\n",
    "\n",
    "    x = x / x.max() * (1.2 * xm[1] - 0.8 * xm[0]) + (xm[0] + xm[1])/2.\n",
    "    y = y / y.max() * (1.2 * ym[1] - 0.8 * ym[0]) + (ym[0] + ym[1])/2.\n",
    "\n",
    "    r_pts = deepcopy([(x[i], y[i]) for i in range(len(x))])\n",
    "    ch_pt = [Point(*pt).within(poly) for pt in r_pts]\n",
    "    return np.array(pts).copy(), np.array(r_pts).copy(), np.array(ch_pt).copy()\n",
    "\n",
    "def get_input(n, q, r):\n",
    "    return get_polygon(n, q, r)"
   ]
  },
  {
   "cell_type": "code",
   "execution_count": 3,
   "id": "a7a30cc9",
   "metadata": {},
   "outputs": [],
   "source": [
    "class Model(nn.Module):\n",
    "    \n",
    "    def __init__(self, d_m, depth, h, ff_m, d_s, o_s):\n",
    "        super().__init__()\n",
    "        self.embedd = nn.Linear(d_s, d_m)\n",
    "        self.enc = Performer(d_m, depth, h, d_m//h, ff_mult=ff_m)\n",
    "        self.dec = Performer(d_m, depth, h, d_m//h, cross_attend=True, ff_mult=ff_m)\n",
    "        self.gen = nn.Sequential()\n",
    "        self.gen.add_module(\"a1\", nn.LeakyReLU(0.1))\n",
    "        self.gen.add_module(\"l1\", nn.Linear(d_m, d_m))\n",
    "        self.gen.add_module(\"a2\", nn.LeakyReLU(0.1))\n",
    "        self.gen.add_module(\"l2\", nn.Linear(d_m, o_s))\n",
    "        self.gen.add_module('a3', nn.Sigmoid())\n",
    "    \n",
    "    def forward(self, x1, x2):\n",
    "        x = self.enc(self.embedd(x1))\n",
    "        x = self.dec(self.embedd(x2), context=x)\n",
    "        x = self.gen(x)\n",
    "        return x"
   ]
  },
  {
   "cell_type": "code",
   "execution_count": 11,
   "id": "68f57029",
   "metadata": {},
   "outputs": [
    {
     "ename": "RuntimeError",
     "evalue": "CUDA error: CUBLAS_STATUS_ALLOC_FAILED when calling `cublasCreate(handle)`",
     "output_type": "error",
     "traceback": [
      "\u001b[0;31m---------------------------------------------------------------------------\u001b[0m",
      "\u001b[0;31mRuntimeError\u001b[0m                              Traceback (most recent call last)",
      "\u001b[0;32m<ipython-input-11-27298d2b8afe>\u001b[0m in \u001b[0;36m<module>\u001b[0;34m\u001b[0m\n\u001b[1;32m     67\u001b[0m \u001b[0;34m\u001b[0m\u001b[0m\n\u001b[1;32m     68\u001b[0m         \u001b[0mcurrent_loss\u001b[0m \u001b[0;34m=\u001b[0m \u001b[0mloss_fn\u001b[0m\u001b[0;34m(\u001b[0m\u001b[0mo\u001b[0m\u001b[0;34m,\u001b[0m \u001b[0my\u001b[0m\u001b[0;34m)\u001b[0m\u001b[0;34m\u001b[0m\u001b[0;34m\u001b[0m\u001b[0m\n\u001b[0;32m---> 69\u001b[0;31m         \u001b[0mcurrent_loss\u001b[0m\u001b[0;34m.\u001b[0m\u001b[0mbackward\u001b[0m\u001b[0;34m(\u001b[0m\u001b[0;34m)\u001b[0m\u001b[0;34m\u001b[0m\u001b[0;34m\u001b[0m\u001b[0m\n\u001b[0m\u001b[1;32m     70\u001b[0m         \u001b[0mnetwork_opimizer\u001b[0m\u001b[0;34m.\u001b[0m\u001b[0mstep\u001b[0m\u001b[0;34m(\u001b[0m\u001b[0;34m)\u001b[0m\u001b[0;34m\u001b[0m\u001b[0;34m\u001b[0m\u001b[0m\n\u001b[1;32m     71\u001b[0m \u001b[0;34m\u001b[0m\u001b[0m\n",
      "\u001b[0;32m~/anaconda3/lib/python3.8/site-packages/torch/tensor.py\u001b[0m in \u001b[0;36mbackward\u001b[0;34m(self, gradient, retain_graph, create_graph, inputs)\u001b[0m\n\u001b[1;32m    243\u001b[0m                 \u001b[0mcreate_graph\u001b[0m\u001b[0;34m=\u001b[0m\u001b[0mcreate_graph\u001b[0m\u001b[0;34m,\u001b[0m\u001b[0;34m\u001b[0m\u001b[0;34m\u001b[0m\u001b[0m\n\u001b[1;32m    244\u001b[0m                 inputs=inputs)\n\u001b[0;32m--> 245\u001b[0;31m         \u001b[0mtorch\u001b[0m\u001b[0;34m.\u001b[0m\u001b[0mautograd\u001b[0m\u001b[0;34m.\u001b[0m\u001b[0mbackward\u001b[0m\u001b[0;34m(\u001b[0m\u001b[0mself\u001b[0m\u001b[0;34m,\u001b[0m \u001b[0mgradient\u001b[0m\u001b[0;34m,\u001b[0m \u001b[0mretain_graph\u001b[0m\u001b[0;34m,\u001b[0m \u001b[0mcreate_graph\u001b[0m\u001b[0;34m,\u001b[0m \u001b[0minputs\u001b[0m\u001b[0;34m=\u001b[0m\u001b[0minputs\u001b[0m\u001b[0;34m)\u001b[0m\u001b[0;34m\u001b[0m\u001b[0;34m\u001b[0m\u001b[0m\n\u001b[0m\u001b[1;32m    246\u001b[0m \u001b[0;34m\u001b[0m\u001b[0m\n\u001b[1;32m    247\u001b[0m     \u001b[0;32mdef\u001b[0m \u001b[0mregister_hook\u001b[0m\u001b[0;34m(\u001b[0m\u001b[0mself\u001b[0m\u001b[0;34m,\u001b[0m \u001b[0mhook\u001b[0m\u001b[0;34m)\u001b[0m\u001b[0;34m:\u001b[0m\u001b[0;34m\u001b[0m\u001b[0;34m\u001b[0m\u001b[0m\n",
      "\u001b[0;32m~/anaconda3/lib/python3.8/site-packages/torch/autograd/__init__.py\u001b[0m in \u001b[0;36mbackward\u001b[0;34m(tensors, grad_tensors, retain_graph, create_graph, grad_variables, inputs)\u001b[0m\n\u001b[1;32m    143\u001b[0m         \u001b[0mretain_graph\u001b[0m \u001b[0;34m=\u001b[0m \u001b[0mcreate_graph\u001b[0m\u001b[0;34m\u001b[0m\u001b[0;34m\u001b[0m\u001b[0m\n\u001b[1;32m    144\u001b[0m \u001b[0;34m\u001b[0m\u001b[0m\n\u001b[0;32m--> 145\u001b[0;31m     Variable._execution_engine.run_backward(\n\u001b[0m\u001b[1;32m    146\u001b[0m         \u001b[0mtensors\u001b[0m\u001b[0;34m,\u001b[0m \u001b[0mgrad_tensors_\u001b[0m\u001b[0;34m,\u001b[0m \u001b[0mretain_graph\u001b[0m\u001b[0;34m,\u001b[0m \u001b[0mcreate_graph\u001b[0m\u001b[0;34m,\u001b[0m \u001b[0minputs\u001b[0m\u001b[0;34m,\u001b[0m\u001b[0;34m\u001b[0m\u001b[0;34m\u001b[0m\u001b[0m\n\u001b[1;32m    147\u001b[0m         allow_unreachable=True, accumulate_grad=True)  # allow_unreachable flag\n",
      "\u001b[0;31mRuntimeError\u001b[0m: CUDA error: CUBLAS_STATUS_ALLOC_FAILED when calling `cublasCreate(handle)`"
     ]
    }
   ],
   "source": [
    "address = \"/home/deniz/Desktop/DLModels/geometry_learner/data\"\n",
    "def create_data(ns):\n",
    "    output = []\n",
    "    for k in range(1):\n",
    "        output.append([])\n",
    "        r = np.random.randint(1, 100)\n",
    "        n = np.random.randint(5, 40)\n",
    "        out_p = np.random.randint(500, 1000)\n",
    "        enc = []\n",
    "        dec = []\n",
    "        out = []\n",
    "        rs = []\n",
    "        for i in range(ns):\n",
    "            e, d, o = get_input(n, out_p, r)\n",
    "            enc.append(e)\n",
    "            dec.append(d)\n",
    "            out.append(o)\n",
    "            rs.append(r)\n",
    "\n",
    "        output[k].append([np.array(enc), np.array(dec), np.array(out), np.array(r)])\n",
    "\n",
    "    with open(f\"{address}/data.pickle\", 'wb') as fid:\n",
    "        pickle.dump(output, fid)\n",
    "\n",
    "def getdata(data, ind):\n",
    "    d = data[ind]\n",
    "    # r = d[0][3]\n",
    "    x_enc = torch.from_numpy(d[0][0]).float()\n",
    "    x_dec = torch.from_numpy(d[0][1]).float()\n",
    "    y = torch.from_numpy(d[0][2]).float().unsqueeze(2)\n",
    "    return x_enc, x_dec, y\n",
    "\n",
    "print_string = 'epoch {:08d} |mean_loss {:16.08f} |max_loss {:16.08f} | min_loss{:16.08f} |time {:16.08f}s'\n",
    "device = torch.device('cuda:0')\n",
    "NUMELE = 10\n",
    "\n",
    "net = Model(200, 4, 4, 2, 2, 1).to(device)\n",
    "\n",
    "# net = load('net')\n",
    "network_opimizer = Adam(net.parameters(), lr=1e-3)\n",
    "loss_fn = nn.BCELoss()\n",
    "# prepare dataset\n",
    "# convertToArray(address)\n",
    "# prepare_dataset(address, NUMELE, 1)\n",
    "\n",
    "e_loss = 0.2\n",
    "\n",
    "for epoch in range(1, 1000000):\n",
    "\n",
    "    if epoch == 1 or epoch%500 == 0:\n",
    "        create_data(NUMELE)\n",
    "        with open(f\"{address}/data.pickle\", 'rb') as fid:\n",
    "            data = pickle.load(fid)\n",
    "        indices = np.array(range(len(data)))\n",
    "\n",
    "    t = time()\n",
    "    element_loss = []\n",
    "    np.random.shuffle(indices) # shuffle the inputs\n",
    "    for i in indices:   \n",
    "        x_enc, x_dec, y= getdata(data, i)\n",
    "        x_enc = x_enc.to(device)\n",
    "        x_dec = x_dec.to(device)\n",
    "        y = y.to(device)\n",
    "        # print(x_dec.max())\n",
    "        o = net(x_enc, x_dec)\n",
    "        network_opimizer.zero_grad()\n",
    "\n",
    "        current_loss = loss_fn(o, y)\n",
    "        current_loss.backward()\n",
    "        network_opimizer.step()\n",
    "\n",
    "        element_loss.append(current_loss.tolist())\n",
    "\n",
    "    element_loss = np.array(element_loss)\n",
    "\n",
    "    if element_loss.mean() < e_loss:\n",
    "        e_loss = element_loss.mean()\n",
    "        net.save_net('net')\n",
    "    if epoch % 2000 == 0:\n",
    "        net.save_net('net_{}'.format(epoch))\n",
    "\n",
    "    print(print_string.format(epoch, \n",
    "                            element_loss.mean(), \n",
    "                            element_loss.max(), \n",
    "                            element_loss.min(),\n",
    "                            time()-t))"
   ]
  },
  {
   "cell_type": "code",
   "execution_count": null,
   "id": "5abd6ab6",
   "metadata": {},
   "outputs": [],
   "source": []
  },
  {
   "cell_type": "code",
   "execution_count": 15,
   "id": "9e4a96b5",
   "metadata": {},
   "outputs": [],
   "source": [
    "for i in range(100):\n",
    "    net(x1, x2)"
   ]
  },
  {
   "cell_type": "code",
   "execution_count": null,
   "id": "b58108ae",
   "metadata": {},
   "outputs": [],
   "source": []
  },
  {
   "cell_type": "code",
   "execution_count": null,
   "id": "deccee4e",
   "metadata": {},
   "outputs": [],
   "source": []
  },
  {
   "cell_type": "code",
   "execution_count": null,
   "id": "7863c343",
   "metadata": {},
   "outputs": [],
   "source": []
  },
  {
   "cell_type": "code",
   "execution_count": null,
   "id": "c8f115c9",
   "metadata": {},
   "outputs": [],
   "source": []
  },
  {
   "cell_type": "code",
   "execution_count": null,
   "id": "a8a20de0",
   "metadata": {},
   "outputs": [],
   "source": []
  },
  {
   "cell_type": "code",
   "execution_count": 19,
   "id": "906167c1",
   "metadata": {},
   "outputs": [
    {
     "data": {
      "text/plain": [
       "<matplotlib.collections.PathCollection at 0x7fd0ad2839a0>"
      ]
     },
     "execution_count": 19,
     "metadata": {},
     "output_type": "execute_result"
    },
    {
     "data": {
      "image/png": "[encoded data removed]",
      "text/plain": [
       "<Figure size 432x288 with 1 Axes>"
      ]
     },
     "metadata": {
      "needs_background": "light"
     },
     "output_type": "display_data"
    }
   ],
   "source": [
    "pts, rpts, chpts = get_polygon(20, 5000, 10)\n",
    "inner = rpts[chpts]\n",
    "outer = rpts[np.logical_not(chpts)]\n",
    "plt.plot(pts[:,0], pts[:,1])\n",
    "plt.scatter(inner[:,0], inner[:,1], s=1, c='r')\n",
    "plt.scatter(outer[:,0], outer[:,1], s=1, c='black')"
   ]
  },
  {
   "cell_type": "code",
   "execution_count": null,
   "id": "7d55e66d",
   "metadata": {},
   "outputs": [],
   "source": []
  }
 ],
 "metadata": {
  "kernelspec": {
   "display_name": "Python 3",
   "language": "python",
   "name": "python3"
  },
  "language_info": {
   "codemirror_mode": {
    "name": "ipython",
    "version": 3
   },
   "file_extension": ".py",
   "mimetype": "text/x-python",
   "name": "python",
   "nbconvert_exporter": "python",
   "pygments_lexer": "ipython3",
   "version": "3.8.8"
  }
 },
 "nbformat": 4,
 "nbformat_minor": 5
}
