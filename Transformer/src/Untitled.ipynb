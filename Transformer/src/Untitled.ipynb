{
 "cells": [
  {
   "cell_type": "code",
   "execution_count": 12,
   "id": "8e107d03",
   "metadata": {},
   "outputs": [],
   "source": [
    "import torch\n",
    "from torch.nn import Parameter, Linear, Module\n",
    "from torch import Tensor, randn"
   ]
  },
  {
   "cell_type": "code",
   "execution_count": 13,
   "id": "c5df733f",
   "metadata": {},
   "outputs": [],
   "source": [
    "KDIM = 100\n",
    "QDIM = 100\n",
    "VDIM = 120\n",
    "batch = 10\n",
    "n = 15\n",
    "DENC = 50"
   ]
  },
  {
   "cell_type": "code",
   "execution_count": 14,
   "id": "d89cee29",
   "metadata": {},
   "outputs": [],
   "source": [
    "x = randn(batch, n, DENC)"
   ]
  },
  {
   "cell_type": "code",
   "execution_count": 15,
   "id": "f3e6197f",
   "metadata": {},
   "outputs": [],
   "source": [
    "class Z2QKV(Module):\n",
    "    \n",
    "    \n",
    "    def __init__(self, ENCDIM, QDIM, KDIM, VDIM):\n",
    "        self.__slots__ = [ENCDIM, QDIM, KDIM, VDIM, Q_Linear, K_Linear, V_Linear]\n",
    "        self.ENCDIM = ENCDIM\n",
    "        self.QDIM = QDIM\n",
    "        self.KDIM = KDIM\n",
    "        self.VDIM = VDIM\n",
    "        \n",
    "        self.Q_Linear = Linear(ENCDIM, QDIM, bias=True)\n",
    "        self.K_Linear = Linear(ENCDIM, KDIM, bias=True)\n",
    "        self.V_Linear = Linear(ENCDIM, VDIM, bias=True)\n",
    "        \n",
    "    def forward(x):\n",
    "        return self.Q_Linear(x), self.K_Linear(x), self.V_Linear(x)"
   ]
  },
  {
   "cell_type": "code",
   "execution_count": 16,
   "id": "e05675ab",
   "metadata": {},
   "outputs": [
    {
     "ename": "TypeError",
     "evalue": "__init__() missing 4 required positional arguments: 'ENCDIM', 'QDIM', 'KDIM', and 'VDIM'",
     "output_type": "error",
     "traceback": [
      "\u001b[0;31m---------------------------------------------------------------------------\u001b[0m",
      "\u001b[0;31mTypeError\u001b[0m                                 Traceback (most recent call last)",
      "\u001b[0;32m<ipython-input-16-e94d8c8b739c>\u001b[0m in \u001b[0;36m<module>\u001b[0;34m\u001b[0m\n\u001b[0;32m----> 1\u001b[0;31m \u001b[0ma\u001b[0m \u001b[0;34m=\u001b[0m \u001b[0mZ2QKV\u001b[0m\u001b[0;34m(\u001b[0m\u001b[0;34m)\u001b[0m\u001b[0;34m\u001b[0m\u001b[0;34m\u001b[0m\u001b[0m\n\u001b[0m",
      "\u001b[0;31mTypeError\u001b[0m: __init__() missing 4 required positional arguments: 'ENCDIM', 'QDIM', 'KDIM', and 'VDIM'"
     ]
    }
   ],
   "source": [
    "a = Z2QKV(D)"
   ]
  },
  {
   "cell_type": "code",
   "execution_count": null,
   "id": "75bd928a",
   "metadata": {},
   "outputs": [],
   "source": []
  }
 ],
 "metadata": {
  "kernelspec": {
   "display_name": "Python 3.7.6 64-bit ('anaconda3': virtualenv)",
   "language": "python",
   "name": "python376jvsc74a57bd0833e2379b90ab11c2bcd50d7e1ff5c05cd643c77835a1dafdd925986cab4bad7"
  },
  "language_info": {
   "codemirror_mode": {
    "name": "ipython",
    "version": 3
   },
   "file_extension": ".py",
   "mimetype": "text/x-python",
   "name": "python",
   "nbconvert_exporter": "python",
   "pygments_lexer": "ipython3",
   "version": "3.7.6"
  }
 },
 "nbformat": 4,
 "nbformat_minor": 5
}
